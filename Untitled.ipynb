{
 "cells": [
  {
   "cell_type": "code",
   "execution_count": 1,
   "metadata": {},
   "outputs": [],
   "source": [
    "import requests\n",
    "from lxml import html"
   ]
  },
  {
   "cell_type": "code",
   "execution_count": 2,
   "metadata": {},
   "outputs": [],
   "source": [
    "doc = html.fromstring(requests.get('https://www.kino.kz/movie/8272').text)"
   ]
  },
  {
   "cell_type": "code",
   "execution_count": 5,
   "metadata": {
    "scrolled": false
   },
   "outputs": [],
   "source": [
    "block = doc.xpath('//table[@class=\"infoTable\"]/tbody/tr')"
   ]
  },
  {
   "cell_type": "code",
   "execution_count": 42,
   "metadata": {},
   "outputs": [
    {
     "name": "stdout",
     "output_type": "stream",
     "text": [
      "Производство США, 2019\n",
      "Премьера в мире 12-Jul-2019\n",
      "Премьера в РК 11-Jul-2019\n",
      "Продолжительность 93 минуты\n",
      "Ссылки https://st.kp.yandex.net/images/film_big/1143927.jpg\n"
     ]
    }
   ],
   "source": [
    "for tr in block:\n",
    "    tds = tr.xpath('.//td')\n",
    "\n",
    "    if len(tds) == 2:\n",
    "        key = tds[0].text.strip()\n",
    "        if key != 'Возрастной рейтинг':\n",
    "            if key == 'Ссылки':\n",
    "                k = tds[1].xpath('./a/@href')[0]\n",
    "                val = 'https://st.kp.yandex.net/images/film_big/' + k.split('/')[-2] + '.jpg'\n",
    "            else:\n",
    "                val = tds[1].text\n",
    "            print(key,val)"
   ]
  },
  {
   "cell_type": "code",
   "execution_count": null,
   "metadata": {},
   "outputs": [],
   "source": []
  }
 ],
 "metadata": {
  "kernelspec": {
   "display_name": "Python 3",
   "language": "python",
   "name": "python3"
  },
  "language_info": {
   "codemirror_mode": {
    "name": "ipython",
    "version": 3
   },
   "file_extension": ".py",
   "mimetype": "text/x-python",
   "name": "python",
   "nbconvert_exporter": "python",
   "pygments_lexer": "ipython3",
   "version": "3.7.0"
  }
 },
 "nbformat": 4,
 "nbformat_minor": 2
}
